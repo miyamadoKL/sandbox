{
 "cells": [
  {
   "cell_type": "code",
   "execution_count": 6,
   "metadata": {},
   "outputs": [
    {
     "name": "stdout",
     "output_type": "stream",
     "text": [
      "1 is odd.\n",
      "2 is even.\n",
      "3 is odd.\n",
      "4 is even.\n",
      "5 is odd.\n",
      "6 is even.\n",
      "7 is odd.\n",
      "8 is even.\n"
     ]
    }
   ],
   "source": [
    "def IsEven(array):\n",
    "    for idx, value in enumerate(array):\n",
    "        if value % 2 == 0:\n",
    "            print(str(value) + \" is even.\")\n",
    "        else:\n",
    "            print(str(value) + \" is odd.\")\n",
    "\n",
    "num_array1 = [1, 2, 3]\n",
    "IsEven(num_array1)\n",
    "#=>1 is odd.\n",
    "#=>2 is even.\n",
    "#=>3 is odd.\n",
    "\n",
    "num_array2 = range(4, 9) #=> [4, 5, 6, 7, 8]\n",
    "IsEven(num_array2)\n",
    "#=>4 is even.\n",
    "#=>5 is odd.\n",
    "#=>...\n"
   ]
  },
  {
   "cell_type": "code",
   "execution_count": null,
   "metadata": {},
   "outputs": [],
   "source": []
  }
 ],
 "metadata": {
  "kernelspec": {
   "display_name": "Python 3",
   "language": "python",
   "name": "python3"
  },
  "language_info": {
   "codemirror_mode": {
    "name": "ipython",
    "version": 3
   },
   "file_extension": ".py",
   "mimetype": "text/x-python",
   "name": "python",
   "nbconvert_exporter": "python",
   "pygments_lexer": "ipython3",
   "version": "3.6.5"
  }
 },
 "nbformat": 4,
 "nbformat_minor": 2
}
