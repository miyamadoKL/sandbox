{
 "cells": [
  {
   "cell_type": "code",
   "execution_count": 42,
   "metadata": {},
   "outputs": [
    {
     "name": "stdout",
     "output_type": "stream",
     "text": [
      "97\n",
      "122\n",
      "['a', 'b', 'c', 'd', 'e', 'f', 'g', 'h', 'i', 'j', 'k', 'l', 'm', 'n', 'o', 'p', 'q', 'r', 's', 't', 'u', 'v', 'w', 'x', 'y', 'z']\n",
      "['A', 'B', 'C', 'D', 'E', 'F', 'G', 'H', 'I', 'J', 'K', 'L', 'M', 'N', 'O', 'P', 'Q', 'R', 'S', 'T', 'U', 'V', 'W', 'X', 'Y', 'Z']\n",
      "['0', '1', '2', '3', '4', '5', '6', '7', '8', '9', 'A', 'B', 'C', 'D', 'E', 'F']\n",
      "['1945', '12', '24']\n",
      "b\n",
      "['a', 'b', 'd']\n",
      "['b', 'd', 'e', ['f', 'g']]\n",
      "False\n",
      "['k', 'l', 'm', 'n', 'o', 'p', 'q', 'r', 's']\n",
      "True\n",
      "['l', 'm', 'n']\n",
      "['k', 'm', 'o', 'q', 's']\n",
      "klmnopqrs\n"
     ]
    }
   ],
   "source": [
    "print(ord('a'))\n",
    "print(ord('z'))\n",
    "\n",
    "list_a_to_z = [chr(i) for i in range(ord('a'), ord('z') + 1)]\n",
    "print(list_a_to_z) #=>['a', 'b', 'c',...]\n",
    "\n",
    "print([chr(i) for i in range(ord('A'), ord('Z') + 1)]) #=>['A', 'B', 'C',...]\n",
    "\n",
    "str = '0123456789ABCDEF'\n",
    "print(list(str)) #=>['0', '1', '2',...]\n",
    "\n",
    "str = '1945/12/24'\n",
    "print(str.split('/')) #=>['1945', '12' , '24']\n",
    "\n",
    "# List is mutable\n",
    "list1 = ['a', 'b', 'c']\n",
    "print(list1[1]) #=>b\n",
    "list1[2] = 'd'\n",
    "print(list1) #=>['a', 'b', 'd']\n",
    "list1.append('e')\n",
    "list1.append(['f', 'g'])\n",
    "list1.remove('a')\n",
    "print(list1)\n",
    "print('a' in list1) #=>False\n",
    "\n",
    "list2 = ['k', 'l', 'm', 'n']\n",
    "list2 += ['o', 'p', 'q']\n",
    "list2.extend(['r', 's'])\n",
    "print(list2)\n",
    "print('p' in list2) #=>True\n",
    "print(list2[1:4])\n",
    "print(list2[::2])\n",
    "print(''.join(list2))"
   ]
  },
  {
   "cell_type": "code",
   "execution_count": null,
   "metadata": {},
   "outputs": [],
   "source": []
  },
  {
   "cell_type": "code",
   "execution_count": null,
   "metadata": {},
   "outputs": [],
   "source": []
  }
 ],
 "metadata": {
  "kernelspec": {
   "display_name": "Python 3",
   "language": "python",
   "name": "python3"
  },
  "language_info": {
   "codemirror_mode": {
    "name": "ipython",
    "version": 3
   },
   "file_extension": ".py",
   "mimetype": "text/x-python",
   "name": "python",
   "nbconvert_exporter": "python",
   "pygments_lexer": "ipython3",
   "version": "3.6.5"
  }
 },
 "nbformat": 4,
 "nbformat_minor": 2
}
