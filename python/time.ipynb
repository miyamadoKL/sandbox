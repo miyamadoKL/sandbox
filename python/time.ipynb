{
 "cells": [
  {
   "cell_type": "code",
   "execution_count": 16,
   "metadata": {},
   "outputs": [
    {
     "name": "stdout",
     "output_type": "stream",
     "text": [
      "1533569083.17474\n",
      "2018-08-07 00:24:43.175248\n",
      "2018-08-07 00:24:43.174740\n"
     ]
    }
   ],
   "source": [
    "import time\n",
    "import datetime\n",
    "\n",
    "unixtime_now = time.time()\n",
    "print(unixtime_now)\n",
    "\n",
    "datetime_now = datetime.datetime.now()\n",
    "print(datetime_now)\n",
    "\n",
    "datetime_now2 = datetime.datetime.fromtimestamp(unixtime_now)\n",
    "print(datetime_now2)"
   ]
  },
  {
   "cell_type": "code",
   "execution_count": null,
   "metadata": {},
   "outputs": [],
   "source": []
  }
 ],
 "metadata": {
  "kernelspec": {
   "display_name": "Python 3",
   "language": "python",
   "name": "python3"
  },
  "language_info": {
   "codemirror_mode": {
    "name": "ipython",
    "version": 3
   },
   "file_extension": ".py",
   "mimetype": "text/x-python",
   "name": "python",
   "nbconvert_exporter": "python",
   "pygments_lexer": "ipython3",
   "version": "3.6.5"
  }
 },
 "nbformat": 4,
 "nbformat_minor": 2
}
